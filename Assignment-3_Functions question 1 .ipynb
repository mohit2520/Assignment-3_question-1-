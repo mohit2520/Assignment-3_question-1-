{
 "cells": [
  {
   "cell_type": "code",
   "execution_count": 1,
   "id": "651cdd83",
   "metadata": {},
   "outputs": [
    {
     "name": "stdout",
     "output_type": "stream",
     "text": [
      "Enter number of elements you want : 5\n",
      "8\n",
      "2\n",
      "3\n",
      "0\n",
      "7\n",
      "Sample list : [8, 2, 3, 0, 7]\n",
      "Summation of the list is 20\n"
     ]
    }
   ],
   "source": [
    "#Write a Python function to sum all the numbers in a list.\n",
    "#Sample List : (8, 2, 3, 0, 7)\n",
    "#Expected Output : 20\n",
    "#Explanation:\n",
    "#Summation should like 8+2+3+0+7 = 20\n",
    "\n",
    "def Sum(a):\n",
    "    return sum(a)\n",
    "\n",
    "lst = []\n",
    "n = int(input(\"Enter number of elements you want : \"))\n",
    "for i in range(0, n):\n",
    "    ele = int(input())\n",
    "    lst.append(ele) \n",
    "      \n",
    "print(\"Sample list :\",lst)\n",
    "x=Sum(lst)\n",
    "print(\"Summation of the list is\",x )"
   ]
  },
  {
   "cell_type": "code",
   "execution_count": null,
   "id": "4bdbb0ee",
   "metadata": {},
   "outputs": [],
   "source": []
  }
 ],
 "metadata": {
  "kernelspec": {
   "display_name": "Python 3 (ipykernel)",
   "language": "python",
   "name": "python3"
  },
  "language_info": {
   "codemirror_mode": {
    "name": "ipython",
    "version": 3
   },
   "file_extension": ".py",
   "mimetype": "text/x-python",
   "name": "python",
   "nbconvert_exporter": "python",
   "pygments_lexer": "ipython3",
   "version": "3.9.12"
  }
 },
 "nbformat": 4,
 "nbformat_minor": 5
}
